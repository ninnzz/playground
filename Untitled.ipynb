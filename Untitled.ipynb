{
 "cells": [
  {
   "cell_type": "markdown",
   "id": "da0d3eb3",
   "metadata": {},
   "source": [
    "# Prime shizz\n",
    "\n",
    "Video: https://www.youtube.com/watch?v=-UrdExQW0cs&ab_channel=Veritasium\n"
   ]
  },
  {
   "cell_type": "code",
   "execution_count": 1,
   "id": "05480832",
   "metadata": {},
   "outputs": [],
   "source": [
    "import math"
   ]
  },
  {
   "cell_type": "code",
   "execution_count": 9,
   "id": "18446211",
   "metadata": {},
   "outputs": [
    {
     "name": "stdout",
     "output_type": "stream",
     "text": [
      "33 11 0\n"
     ]
    }
   ],
   "source": [
    "def euclids_algo(n: int, factor: int) -> int:\n",
    "    \"\"\"\n",
    "    Find share factors of N.\n",
    "    \"\"\"\n",
    "    r = 1\n",
    "    dd = factor\n",
    "    dv = n\n",
    "    while (r := dd % dv) != 0:\n",
    "        dd = dv\n",
    "        dv = r\n",
    "        \n",
    "    print(dd, dv, r)\n",
    "    \n",
    "euclids_algo(77, 32769) "
   ]
  },
  {
   "cell_type": "code",
   "execution_count": null,
   "id": "ae0a187f",
   "metadata": {},
   "outputs": [],
   "source": []
  }
 ],
 "metadata": {
  "kernelspec": {
   "display_name": "Python 3 (ipykernel)",
   "language": "python",
   "name": "python3"
  },
  "language_info": {
   "codemirror_mode": {
    "name": "ipython",
    "version": 3
   },
   "file_extension": ".py",
   "mimetype": "text/x-python",
   "name": "python",
   "nbconvert_exporter": "python",
   "pygments_lexer": "ipython3",
   "version": "3.10.1"
  }
 },
 "nbformat": 4,
 "nbformat_minor": 5
}
