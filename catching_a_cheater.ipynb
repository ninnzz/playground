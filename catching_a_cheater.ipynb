{
 "cells": [
  {
   "cell_type": "markdown",
   "id": "8ad59f23",
   "metadata": {},
   "source": [
    "# Catching a cheater\n",
    "\n",
    "From video: https://youtu.be/XTcP4oo4JI4"
   ]
  },
  {
   "cell_type": "code",
   "execution_count": 1,
   "id": "ae4ce2b4",
   "metadata": {},
   "outputs": [],
   "source": [
    "import numpy as np\n",
    "import matplotlib"
   ]
  },
  {
   "cell_type": "code",
   "execution_count": 32,
   "id": "e081b453",
   "metadata": {},
   "outputs": [],
   "source": [
    "N = 1000 # Number of players\n",
    "FLIPS = 25 # Number of flips\n",
    "COIN_BIAS = 0.75 \n",
    "CHEATERS = 0.5 # Percentage of cheaters"
   ]
  },
  {
   "cell_type": "code",
   "execution_count": 76,
   "id": "8e2bf0a0",
   "metadata": {},
   "outputs": [
    {
     "data": {
      "text/plain": [
       "array([[1.  , 0.75],\n",
       "       [1.  , 0.75],\n",
       "       [0.  , 0.  ],\n",
       "       ...,\n",
       "       [1.  , 0.75],\n",
       "       [0.  , 0.  ],\n",
       "       [0.  , 0.  ]])"
      ]
     },
     "execution_count": 76,
     "metadata": {},
     "output_type": "execute_result"
    }
   ],
   "source": [
    "def flip_coin(n: int = 25, coin_bias: float = 0.75):\n",
    "    \"\"\"\n",
    "    Flips a coin with N times with bias towards head.\n",
    "    if bias = 0, coin is fair\n",
    "    \"\"\"\n",
    "    \n",
    "    return np.random.binomial(n, coin_bias, [2, 2])\n",
    "\n",
    "\n",
    "\n",
    "\n",
    "# flip_coin([100, 100], [0.5, 0.9])\n",
    "\n",
    "cheat = np.ones(int(N * CHEATERS), dtype=int)\n",
    "# Create a coin bias function\n",
    "# for different bias per coin\n",
    "cheat_proba = np.full(int(N * CHEATERS), COIN_BIAS)\n",
    "no_cheat = np.zeros(int(N * (1 - CHEATERS)), dtype=int)\n",
    "no_cheat_proba = np.zeros(int(N * (1 - CHEATERS)), dtype=int)\n",
    "\n",
    "cheat = np.column_stack((cheat, cheat_proba))\n",
    "no_cheat = np.column_stack((no_cheat, no_cheat_proba))\n",
    "players = np.concatenate((cheat, no_cheat))\n",
    "np.random.shuffle(players)\n",
    "\n",
    "players"
   ]
  },
  {
   "cell_type": "code",
   "execution_count": null,
   "id": "cbcc5729",
   "metadata": {},
   "outputs": [],
   "source": []
  },
  {
   "cell_type": "code",
   "execution_count": null,
   "id": "aea32c39",
   "metadata": {},
   "outputs": [],
   "source": []
  }
 ],
 "metadata": {
  "kernelspec": {
   "display_name": "Python 3 (ipykernel)",
   "language": "python",
   "name": "python3"
  },
  "language_info": {
   "codemirror_mode": {
    "name": "ipython",
    "version": 3
   },
   "file_extension": ".py",
   "mimetype": "text/x-python",
   "name": "python",
   "nbconvert_exporter": "python",
   "pygments_lexer": "ipython3",
   "version": "3.10.1"
  }
 },
 "nbformat": 4,
 "nbformat_minor": 5
}
