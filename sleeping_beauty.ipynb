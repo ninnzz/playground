{
 "cells": [
  {
   "cell_type": "markdown",
   "id": "2d444f74",
   "metadata": {},
   "source": [
    "# Sleeping Beauty Probability\n",
    "\n",
    "Video ref: https://www.youtube.com/watch?v=XeSu9fBJ2sI&ab_channel=Veritasium"
   ]
  },
  {
   "cell_type": "code",
   "execution_count": 29,
   "id": "36e14ca9",
   "metadata": {},
   "outputs": [
    {
     "name": "stdout",
     "output_type": "stream",
     "text": [
      "Monday H: 50385, Monday T: 49615, Tuesday T: 49615\n"
     ]
    }
   ],
   "source": [
    "import random\n",
    "\n",
    "ITER = 100000 # experiment iteration\n",
    "\n",
    "def coin_flip():\n",
    "    return random.choice([1, 0])\n",
    "\n",
    "monday_head = 0\n",
    "monday_tails = 0\n",
    "tuesday_tails = 0\n",
    "\n",
    "for i in range(ITER):\n",
    "    if coin_flip():\n",
    "        monday_head += 1\n",
    "    else:\n",
    "        monday_tails += 1\n",
    "        tuesday_tails += 1\n",
    "    \n",
    "print(f\"Monday H: {monday_head}, Monday T: {monday_tails}, Tuesday T: {tuesday_tails}\")"
   ]
  },
  {
   "cell_type": "markdown",
   "id": "49ca00b2",
   "metadata": {},
   "source": [
    "## Observation\n",
    "\n",
    "Thirder view seems logical given sleeping beauty has no prior knowledge of the condition. Hence, she will say probability of getting heads is 1/3. See result above."
   ]
  },
  {
   "cell_type": "code",
   "execution_count": null,
   "id": "b21a27f9",
   "metadata": {},
   "outputs": [],
   "source": []
  }
 ],
 "metadata": {
  "kernelspec": {
   "display_name": "Python 3 (ipykernel)",
   "language": "python",
   "name": "python3"
  },
  "language_info": {
   "codemirror_mode": {
    "name": "ipython",
    "version": 3
   },
   "file_extension": ".py",
   "mimetype": "text/x-python",
   "name": "python",
   "nbconvert_exporter": "python",
   "pygments_lexer": "ipython3",
   "version": "3.10.1"
  }
 },
 "nbformat": 4,
 "nbformat_minor": 5
}
