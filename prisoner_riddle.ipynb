{
 "cells": [
  {
   "cell_type": "markdown",
   "id": "9e422ddc",
   "metadata": {},
   "source": [
    "## Prisoner Riddle\n",
    "\n",
    "Reference video: https://www.youtube.com/watch?v=iSNsgj1OCLA\n",
    "\n",
    "The math is correct but I just want to see it happen in real implementation.\n",
    "\n",
    "TLDR; \n",
    "\n",
    "- We need to understand the probability of getting a loop with length N => `P(Loop=N)`.\n",
    "- We need to get the probability of a loop having length `N/2` or less.\n",
    "- This is equal to the sum of the probabilities `P(Loop=N/2 + 1) + P(Loop=N/2 + 2) + . . + P(Loop=N)`\n",
    "- Assuming N = 100, then the sum is equal to `0.69`\n",
    "- We can then say that the `P(Loop <= N/2) = 1 - P(Loop > N/2)` which is equal to `0.31`\n",
    "\n",
    "When running the experiement, we should get a success rate of close to `31%`"
   ]
  },
  {
   "cell_type": "code",
   "execution_count": 97,
   "id": "481ce751",
   "metadata": {},
   "outputs": [],
   "source": [
    "import numpy as np"
   ]
  },
  {
   "cell_type": "code",
   "execution_count": 98,
   "id": "f74996d0",
   "metadata": {},
   "outputs": [],
   "source": [
    "N = 100\n",
    "num_of_tries = int(N / 2)\n",
    "iterations = 100000"
   ]
  },
  {
   "cell_type": "code",
   "execution_count": 99,
   "id": "3a114d4f",
   "metadata": {},
   "outputs": [],
   "source": [
    "def run_experiment(debug: bool = True):\n",
    "    \"\"\"\n",
    "    Runs experiment of prisoners choosing a box\n",
    "    \"\"\"\n",
    "    \n",
    "    # Populate boxes\n",
    "    boxes = np.random.choice(np.arange(0, N), replace=False, size=(N,))\n",
    "    live = False\n",
    "    \n",
    "    for i in range(N):\n",
    "        if debug:\n",
    "            print(f\"Prisoner {i + 1}\")\n",
    "        \n",
    "        current_box = i\n",
    "\n",
    "        for j in range(num_of_tries):\n",
    "            box_val = boxes[current_box]\n",
    "\n",
    "            if box_val == i:\n",
    "                break\n",
    "\n",
    "            current_box = box_val\n",
    "\n",
    "        else:\n",
    "            if debug:\n",
    "                print(f\"Prisoner {i + 1} failed to find a loop\")\n",
    "            break\n",
    "    else:\n",
    "        live = True\n",
    "\n",
    "    return live\n",
    "\n",
    "\n",
    "def run_random_experiment(debug: bool = True):\n",
    "    \"\"\"\n",
    "    Runs experiment of prisoners choosing a box\n",
    "    \"\"\"\n",
    "    \n",
    "    # Populate boxes\n",
    "    boxes = np.random.choice(np.arange(0, N), replace=False, size=(N,))\n",
    "    live = False\n",
    "    \n",
    "    for i in range(N):\n",
    "        if debug:\n",
    "            print(f\"Prisoner {i + 1}\")\n",
    "        \n",
    "        # Change the search parameter to random start\n",
    "        current_box = np.random.randint(N)\n",
    "\n",
    "        for j in range(num_of_tries):\n",
    "            box_val = boxes[current_box]\n",
    "\n",
    "            if box_val == i:\n",
    "                break\n",
    "\n",
    "            current_box = box_val\n",
    "\n",
    "        else:\n",
    "            if debug:\n",
    "                print(f\"Prisoner {i + 1} failed to find a loop\")\n",
    "            break\n",
    "    else:\n",
    "        live = True\n",
    "\n",
    "    return live"
   ]
  },
  {
   "cell_type": "code",
   "execution_count": 100,
   "id": "42134d01",
   "metadata": {},
   "outputs": [
    {
     "name": "stdout",
     "output_type": "stream",
     "text": [
      "Using random approach\n",
      "0 out of 100000 successful experiment\n",
      "Success rate: 0.0\n",
      "Using smart approach\n",
      "31115 out of 100000 successful experiment\n",
      "Success rate: 31.11\n"
     ]
    }
   ],
   "source": [
    "success = 0\n",
    "for i in range(iterations):\n",
    "    result = run_random_experiment(debug=False)\n",
    "    success += result\n",
    "\n",
    "print(\"Using random approach\")\n",
    "print(f\"{success} out of {iterations} successful experiment\")\n",
    "print(f\"Success rate: {(success / iterations) * 100}\")\n",
    "\n",
    "\n",
    "success = 0\n",
    "for i in range(iterations):\n",
    "    result = run_experiment(debug=False)\n",
    "    success += result\n",
    "\n",
    "print(\"Using smart approach\")\n",
    "print(f\"{success} out of {iterations} successful experiment\")\n",
    "print(f\"Success rate: {round((success / iterations) * 100, 2)}\")"
   ]
  },
  {
   "cell_type": "markdown",
   "id": "d6b53c1c",
   "metadata": {},
   "source": [
    "### Conclusion\n",
    "\n",
    "The experiment shows that the success rate for the prisoners is indeed `~31%`"
   ]
  },
  {
   "cell_type": "code",
   "execution_count": null,
   "id": "3c5d8412",
   "metadata": {},
   "outputs": [],
   "source": []
  }
 ],
 "metadata": {
  "kernelspec": {
   "display_name": "Python 3 (ipykernel)",
   "language": "python",
   "name": "python3"
  },
  "language_info": {
   "codemirror_mode": {
    "name": "ipython",
    "version": 3
   },
   "file_extension": ".py",
   "mimetype": "text/x-python",
   "name": "python",
   "nbconvert_exporter": "python",
   "pygments_lexer": "ipython3",
   "version": "3.10.1"
  }
 },
 "nbformat": 4,
 "nbformat_minor": 5
}
